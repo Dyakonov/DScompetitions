{
 "cells": [
  {
   "cell_type": "markdown",
   "metadata": {
    "colab": {
     "base_uri": "https://localhost:8080/",
     "height": 74
    },
    "colab_type": "code",
    "id": "LvkRxAuAyBER",
    "outputId": "a84aa244-fe21-419f-9121-331436e347d6"
   },
   "source": [
    "# Задача прогнозирования визитов клиентов\n",
    "\n",
    "Дьяконов А.Г., 2023"
   ]
  },
  {
   "cell_type": "code",
   "execution_count": 1,
   "metadata": {},
   "outputs": [],
   "source": [
    "#from google.colab import drive\n",
    "#drive.mount('/content/drive/')"
   ]
  },
  {
   "cell_type": "code",
   "execution_count": 1,
   "metadata": {
    "colab": {},
    "colab_type": "code",
    "id": "GLioLwWjxbmS"
   },
   "outputs": [
    {
     "name": "stdout",
     "output_type": "stream",
     "text": [
      "Populating the interactive namespace from numpy and matplotlib\n"
     ]
    }
   ],
   "source": [
    "import numpy as np\n",
    "import pandas as pd\n",
    "import time\n",
    "\n",
    "%pylab inline\n",
    "#plt.style.use('seaborn-dark')\n",
    "#import warnings\n",
    "#warnings.filterwarnings(\"ignore\")\n",
    "#pd.set_option('display.max_columns', None)\n",
    "import matplotlib.pyplot as plt\n",
    "import matplotlib as mpl\n",
    "plt.rc('font', size=14)\n",
    "\n",
    "import seaborn as sns\n",
    "%matplotlib inline\n",
    "\n",
    "%config Completer.use_jedi = False"
   ]
  },
  {
   "cell_type": "markdown",
   "metadata": {},
   "source": [
    "## загрузка данных"
   ]
  },
  {
   "cell_type": "code",
   "execution_count": 2,
   "metadata": {
    "colab": {
     "base_uri": "https://localhost:8080/",
     "height": 51
    },
    "colab_type": "code",
    "id": "jxNHufvMxqHn",
    "outputId": "84fbd636-cb91-4eb6-f9bb-8c0c772d67eb"
   },
   "outputs": [
    {
     "name": "stdout",
     "output_type": "stream",
     "text": [
      "CPU times: user 4.9 s, sys: 1.47 s, total: 6.37 s\n",
      "Wall time: 6.91 s\n"
     ]
    }
   ],
   "source": [
    "%%time\n",
    "df = pd.read_csv('shop_training.csv', parse_dates=['visit_date'])\n",
    "\n",
    "# r'/content/drive/My Drive/Colab Notebooks/ПЗАД/training.csv'"
   ]
  },
  {
   "cell_type": "code",
   "execution_count": 7,
   "metadata": {},
   "outputs": [
    {
     "data": {
      "text/html": [
       "<div>\n",
       "<style scoped>\n",
       "    .dataframe tbody tr th:only-of-type {\n",
       "        vertical-align: middle;\n",
       "    }\n",
       "\n",
       "    .dataframe tbody tr th {\n",
       "        vertical-align: top;\n",
       "    }\n",
       "\n",
       "    .dataframe thead th {\n",
       "        text-align: right;\n",
       "    }\n",
       "</style>\n",
       "<table border=\"1\" class=\"dataframe\">\n",
       "  <thead>\n",
       "    <tr style=\"text-align: right;\">\n",
       "      <th></th>\n",
       "      <th>customer_id</th>\n",
       "      <th>visit_date</th>\n",
       "      <th>visit_spend</th>\n",
       "    </tr>\n",
       "  </thead>\n",
       "  <tbody>\n",
       "    <tr>\n",
       "      <th>0</th>\n",
       "      <td>2</td>\n",
       "      <td>2010-04-01</td>\n",
       "      <td>5.97</td>\n",
       "    </tr>\n",
       "    <tr>\n",
       "      <th>1</th>\n",
       "      <td>2</td>\n",
       "      <td>2010-04-06</td>\n",
       "      <td>12.71</td>\n",
       "    </tr>\n",
       "    <tr>\n",
       "      <th>2</th>\n",
       "      <td>2</td>\n",
       "      <td>2010-04-07</td>\n",
       "      <td>34.52</td>\n",
       "    </tr>\n",
       "    <tr>\n",
       "      <th>3</th>\n",
       "      <td>2</td>\n",
       "      <td>2010-04-12</td>\n",
       "      <td>7.89</td>\n",
       "    </tr>\n",
       "    <tr>\n",
       "      <th>4</th>\n",
       "      <td>2</td>\n",
       "      <td>2010-04-14</td>\n",
       "      <td>17.17</td>\n",
       "    </tr>\n",
       "  </tbody>\n",
       "</table>\n",
       "</div>"
      ],
      "text/plain": [
       "   customer_id visit_date  visit_spend\n",
       "0            2 2010-04-01         5.97\n",
       "1            2 2010-04-06        12.71\n",
       "2            2 2010-04-07        34.52\n",
       "3            2 2010-04-12         7.89\n",
       "4            2 2010-04-14        17.17"
      ]
     },
     "execution_count": 7,
     "metadata": {},
     "output_type": "execute_result"
    }
   ],
   "source": [
    "df.head(5)"
   ]
  },
  {
   "cell_type": "code",
   "execution_count": 8,
   "metadata": {},
   "outputs": [
    {
     "name": "stdout",
     "output_type": "stream",
     "text": [
      "Количество уникальных клиентов: 100000\n",
      "Диапозон дней: 445\n",
      "Максимальная дата: 2011-06-19 00:00:00\n"
     ]
    }
   ],
   "source": [
    "# Уникальных клиентов 100000\n",
    "print(f\"Количество уникальных клиентов: {df['customer_id'].nunique()}\")\n",
    "print(f\"Диапозон дней: {(df['visit_date'].max() - df['visit_date'].min()).days + 1}\")\n",
    "print(f\"Максимальная дата: {df['visit_date'].max()}\")"
   ]
  },
  {
   "cell_type": "markdown",
   "metadata": {},
   "source": [
    "## общие траты"
   ]
  },
  {
   "cell_type": "code",
   "execution_count": 9,
   "metadata": {},
   "outputs": [
    {
     "data": {
      "text/plain": [
       "visit_date\n",
       "2010-04-01    1674538.76\n",
       "2010-04-02    1528295.25\n",
       "2010-04-03    1418621.91\n",
       "2010-04-04     148604.88\n",
       "2010-04-05     832176.83\n",
       "Name: visit_spend, dtype: float64"
      ]
     },
     "execution_count": 9,
     "metadata": {},
     "output_type": "execute_result"
    }
   ],
   "source": [
    "spend_on_date_over_all = df.groupby(['visit_date'])['visit_spend'].sum().sort_index()\n",
    "spend_on_date_over_all.head()"
   ]
  },
  {
   "cell_type": "code",
   "execution_count": 14,
   "metadata": {},
   "outputs": [
    {
     "data": {
      "image/png": "[encoded data removed]",
      "text/plain": [
       "<Figure size 720x216 with 2 Axes>"
      ]
     },
     "metadata": {
      "needs_background": "light"
     },
     "output_type": "display_data"
    }
   ],
   "source": [
    "plt.figure(figsize=(10, 3))\n",
    "\n",
    "plt.subplot(121)\n",
    "plt.bar(spend_on_date_over_all.index, spend_on_date_over_all, color='#000099');\n",
    "plt.xticks(rotation=-25);\n",
    "plt.xlabel('дата')\n",
    "plt.ylabel('общие траты')\n",
    "\n",
    "plt.subplot(122)\n",
    "plt.bar(spend_on_date_over_all[-28:].index, spend_on_date_over_all[-28:], color='#000099');\n",
    "plt.xticks(rotation=-25);\n",
    "plt.xlabel('дата');"
   ]
  },
  {
   "cell_type": "code",
   "execution_count": 15,
   "metadata": {},
   "outputs": [],
   "source": [
    "# общие траты\n",
    "spends = df.visit_spend.values\n",
    "spends = spends[spends < 250]"
   ]
  },
  {
   "cell_type": "code",
   "execution_count": 16,
   "metadata": {},
   "outputs": [
    {
     "data": {
      "text/plain": [
       "Text(0, 0.5, 'значение гистограммы')"
      ]
     },
     "execution_count": 16,
     "metadata": {},
     "output_type": "execute_result"
    },
    {
     "data": {
      "image/png": "[encoded data removed]",
      "text/plain": [
       "<Figure size 504x216 with 1 Axes>"
      ]
     },
     "metadata": {
      "needs_background": "light"
     },
     "output_type": "display_data"
    }
   ],
   "source": [
    "plt.figure(figsize=(7, 3))\n",
    "plt.hist(spends, bins=100, color='#000099');\n",
    "plt.xlabel('сумма покупки')\n",
    "plt.ylabel('значение гистограммы')"
   ]
  },
  {
   "cell_type": "markdown",
   "metadata": {},
   "source": [
    "## траты по дням"
   ]
  },
  {
   "cell_type": "code",
   "execution_count": 20,
   "metadata": {},
   "outputs": [
    {
     "name": "stdout",
     "output_type": "stream",
     "text": [
      "CPU times: user 978 ms, sys: 16.8 ms, total: 995 ms\n",
      "Wall time: 1.12 s\n"
     ]
    }
   ],
   "source": [
    "%%time\n",
    "df['weekday'] = df.visit_date.dt.weekday"
   ]
  },
  {
   "cell_type": "code",
   "execution_count": 22,
   "metadata": {},
   "outputs": [
    {
     "data": {
      "text/plain": [
       "weekday\n",
       "0    1669166\n",
       "1    1699740\n",
       "2    1699473\n",
       "3    1879063\n",
       "4    2035634\n",
       "5    1916671\n",
       "6    1246890\n",
       "Name: visit_spend, dtype: int64"
      ]
     },
     "execution_count": 22,
     "metadata": {},
     "output_type": "execute_result"
    }
   ],
   "source": [
    "visits_on_weekday = df.groupby(['weekday'])['visit_spend'].count() #.sort_index()\n",
    "visits_on_weekday"
   ]
  },
  {
   "cell_type": "code",
   "execution_count": 24,
   "metadata": {},
   "outputs": [
    {
     "data": {
      "text/plain": [
       "Text(0, 0.5, 'вероятность прихода')"
      ]
     },
     "execution_count": 24,
     "metadata": {},
     "output_type": "execute_result"
    },
    {
     "data": {
      "image/png": "[encoded data removed]",
      "text/plain": [
       "<Figure size 504x216 with 1 Axes>"
      ]
     },
     "metadata": {
      "needs_background": "light"
     },
     "output_type": "display_data"
    }
   ],
   "source": [
    "plt.figure(figsize=(7, 3))\n",
    "plt.bar(visits_on_weekday.index, visits_on_weekday.values / df.shape[0], color='#000099')\n",
    "plt.xticks(visits_on_weekday.index, ['пн', 'вт', 'ср', 'чт', 'пт', 'сб', 'вс']);\n",
    "plt.grid(axis='y', lw=1)\n",
    "plt.xlabel('дни недели')\n",
    "plt.ylabel('вероятность прихода')"
   ]
  },
  {
   "cell_type": "markdown",
   "metadata": {},
   "source": [
    "### необязательная проверка на отсортированность по дате данных клиента"
   ]
  },
  {
   "cell_type": "code",
   "execution_count": 46,
   "metadata": {},
   "outputs": [
    {
     "data": {
      "text/plain": [
       "True"
      ]
     },
     "execution_count": 46,
     "metadata": {},
     "output_type": "execute_result"
    }
   ],
   "source": [
    "%%time\n",
    "df.groupby('customer_id')['visit_date'].apply(lambda x: all(x.sort_values().values == x.values)).all()"
   ]
  },
  {
   "cell_type": "code",
   "execution_count": 54,
   "metadata": {},
   "outputs": [
    {
     "data": {
      "text/plain": [
       "0"
      ]
     },
     "execution_count": 54,
     "metadata": {},
     "output_type": "execute_result"
    }
   ],
   "source": [
    "# проверка на дубликаты\n",
    "df.duplicated(subset=['customer_id',\n",
    "                      'visit_date']).sum()"
   ]
  },
  {
   "cell_type": "markdown",
   "metadata": {},
   "source": [
    "### Данные одного клиента"
   ]
  },
  {
   "cell_type": "code",
   "execution_count": 25,
   "metadata": {},
   "outputs": [
    {
     "name": "stdout",
     "output_type": "stream",
     "text": [
      "клиент = 131641\n"
     ]
    },
    {
     "data": {
      "text/html": [
       "<div>\n",
       "<style scoped>\n",
       "    .dataframe tbody tr th:only-of-type {\n",
       "        vertical-align: middle;\n",
       "    }\n",
       "\n",
       "    .dataframe tbody tr th {\n",
       "        vertical-align: top;\n",
       "    }\n",
       "\n",
       "    .dataframe thead th {\n",
       "        text-align: right;\n",
       "    }\n",
       "</style>\n",
       "<table border=\"1\" class=\"dataframe\">\n",
       "  <thead>\n",
       "    <tr style=\"text-align: right;\">\n",
       "      <th></th>\n",
       "      <th>customer_id</th>\n",
       "      <th>visit_date</th>\n",
       "      <th>visit_spend</th>\n",
       "      <th>weekday</th>\n",
       "    </tr>\n",
       "  </thead>\n",
       "  <tbody>\n",
       "    <tr>\n",
       "      <th>10708421</th>\n",
       "      <td>131641</td>\n",
       "      <td>2010-04-03</td>\n",
       "      <td>10.84</td>\n",
       "      <td>5</td>\n",
       "    </tr>\n",
       "    <tr>\n",
       "      <th>10708422</th>\n",
       "      <td>131641</td>\n",
       "      <td>2010-04-25</td>\n",
       "      <td>81.06</td>\n",
       "      <td>6</td>\n",
       "    </tr>\n",
       "    <tr>\n",
       "      <th>10708423</th>\n",
       "      <td>131641</td>\n",
       "      <td>2010-05-03</td>\n",
       "      <td>13.47</td>\n",
       "      <td>0</td>\n",
       "    </tr>\n",
       "    <tr>\n",
       "      <th>10708424</th>\n",
       "      <td>131641</td>\n",
       "      <td>2010-05-29</td>\n",
       "      <td>91.63</td>\n",
       "      <td>5</td>\n",
       "    </tr>\n",
       "    <tr>\n",
       "      <th>10708425</th>\n",
       "      <td>131641</td>\n",
       "      <td>2010-06-05</td>\n",
       "      <td>43.56</td>\n",
       "      <td>5</td>\n",
       "    </tr>\n",
       "  </tbody>\n",
       "</table>\n",
       "</div>"
      ],
      "text/plain": [
       "          customer_id visit_date  visit_spend  weekday\n",
       "10708421       131641 2010-04-03        10.84        5\n",
       "10708422       131641 2010-04-25        81.06        6\n",
       "10708423       131641 2010-05-03        13.47        0\n",
       "10708424       131641 2010-05-29        91.63        5\n",
       "10708425       131641 2010-06-05        43.56        5"
      ]
     },
     "execution_count": 25,
     "metadata": {},
     "output_type": "execute_result"
    }
   ],
   "source": [
    "random_customer = np.random.choice(df['customer_id'].unique())\n",
    "print (f'клиент = {random_customer}')\n",
    "\n",
    "random_customer_spend = df[df['customer_id'] == random_customer]\n",
    "random_customer_spend.head()\n"
   ]
  },
  {
   "cell_type": "code",
   "execution_count": 26,
   "metadata": {},
   "outputs": [
    {
     "data": {
      "image/png": "[encoded data removed]",
      "text/plain": [
       "<Figure size 504x216 with 1 Axes>"
      ]
     },
     "metadata": {
      "needs_background": "light"
     },
     "output_type": "display_data"
    }
   ],
   "source": [
    "plt.figure(figsize=(7, 3))\n",
    "\n",
    "plt.bar(random_customer_spend['visit_date'],\n",
    "        random_customer_spend['visit_spend'], color='#000099')\n",
    "plt.xticks(rotation=-25);\n",
    "plt.yscale('log')\n",
    "plt.grid(axis='y', lw=2)"
   ]
  },
  {
   "cell_type": "code",
   "execution_count": 27,
   "metadata": {},
   "outputs": [
    {
     "name": "stderr",
     "output_type": "stream",
     "text": [
      "/home/dash/anaconda3/lib/python3.7/site-packages/ipykernel_launcher.py:1: FutureWarning: Series.dt.weekofyear and Series.dt.week have been deprecated.  Please use Series.dt.isocalendar().week instead.\n",
      "  \"\"\"Entry point for launching an IPython kernel.\n"
     ]
    },
    {
     "name": "stdout",
     "output_type": "stream",
     "text": [
      "CPU times: user 2.16 s, sys: 357 ms, total: 2.52 s\n",
      "Wall time: 2.65 s\n"
     ]
    }
   ],
   "source": [
    "%%time\n",
    "df['weekofyear'] = df.visit_date.dt.weekofyear # df.visit_date.dt.isocalendar().week\n",
    "df['year'] = df.visit_date.dt.year"
   ]
  },
  {
   "cell_type": "code",
   "execution_count": 31,
   "metadata": {},
   "outputs": [],
   "source": [
    "random_customer_spend = df[df['customer_id'] == random_customer]"
   ]
  },
  {
   "cell_type": "code",
   "execution_count": 32,
   "metadata": {},
   "outputs": [],
   "source": [
    "random_customer_spend_pivot = random_customer_spend.pivot_table(index=['year', 'weekofyear'],\n",
    "                                                                columns='weekday',\n",
    "                                                                values='visit_spend')"
   ]
  },
  {
   "cell_type": "code",
   "execution_count": 33,
   "metadata": {},
   "outputs": [
    {
     "data": {
      "text/html": [
       "<div>\n",
       "<style scoped>\n",
       "    .dataframe tbody tr th:only-of-type {\n",
       "        vertical-align: middle;\n",
       "    }\n",
       "\n",
       "    .dataframe tbody tr th {\n",
       "        vertical-align: top;\n",
       "    }\n",
       "\n",
       "    .dataframe thead th {\n",
       "        text-align: right;\n",
       "    }\n",
       "</style>\n",
       "<table border=\"1\" class=\"dataframe\">\n",
       "  <thead>\n",
       "    <tr style=\"text-align: right;\">\n",
       "      <th></th>\n",
       "      <th>weekday</th>\n",
       "      <th>0</th>\n",
       "      <th>1</th>\n",
       "      <th>2</th>\n",
       "      <th>3</th>\n",
       "      <th>4</th>\n",
       "      <th>5</th>\n",
       "      <th>6</th>\n",
       "    </tr>\n",
       "    <tr>\n",
       "      <th>year</th>\n",
       "      <th>weekofyear</th>\n",
       "      <th></th>\n",
       "      <th></th>\n",
       "      <th></th>\n",
       "      <th></th>\n",
       "      <th></th>\n",
       "      <th></th>\n",
       "      <th></th>\n",
       "    </tr>\n",
       "  </thead>\n",
       "  <tbody>\n",
       "    <tr>\n",
       "      <th rowspan=\"5\" valign=\"top\">2010</th>\n",
       "      <th>13</th>\n",
       "      <td>NaN</td>\n",
       "      <td>NaN</td>\n",
       "      <td>NaN</td>\n",
       "      <td>NaN</td>\n",
       "      <td>NaN</td>\n",
       "      <td>10.84</td>\n",
       "      <td>NaN</td>\n",
       "    </tr>\n",
       "    <tr>\n",
       "      <th>16</th>\n",
       "      <td>NaN</td>\n",
       "      <td>NaN</td>\n",
       "      <td>NaN</td>\n",
       "      <td>NaN</td>\n",
       "      <td>NaN</td>\n",
       "      <td>NaN</td>\n",
       "      <td>81.06</td>\n",
       "    </tr>\n",
       "    <tr>\n",
       "      <th>18</th>\n",
       "      <td>13.47</td>\n",
       "      <td>NaN</td>\n",
       "      <td>NaN</td>\n",
       "      <td>NaN</td>\n",
       "      <td>NaN</td>\n",
       "      <td>NaN</td>\n",
       "      <td>NaN</td>\n",
       "    </tr>\n",
       "    <tr>\n",
       "      <th>21</th>\n",
       "      <td>NaN</td>\n",
       "      <td>NaN</td>\n",
       "      <td>NaN</td>\n",
       "      <td>NaN</td>\n",
       "      <td>NaN</td>\n",
       "      <td>91.63</td>\n",
       "      <td>NaN</td>\n",
       "    </tr>\n",
       "    <tr>\n",
       "      <th>22</th>\n",
       "      <td>NaN</td>\n",
       "      <td>NaN</td>\n",
       "      <td>NaN</td>\n",
       "      <td>NaN</td>\n",
       "      <td>NaN</td>\n",
       "      <td>43.56</td>\n",
       "      <td>NaN</td>\n",
       "    </tr>\n",
       "  </tbody>\n",
       "</table>\n",
       "</div>"
      ],
      "text/plain": [
       "weekday              0   1   2   3   4      5      6\n",
       "year weekofyear                                     \n",
       "2010 13            NaN NaN NaN NaN NaN  10.84    NaN\n",
       "     16            NaN NaN NaN NaN NaN    NaN  81.06\n",
       "     18          13.47 NaN NaN NaN NaN    NaN    NaN\n",
       "     21            NaN NaN NaN NaN NaN  91.63    NaN\n",
       "     22            NaN NaN NaN NaN NaN  43.56    NaN"
      ]
     },
     "execution_count": 33,
     "metadata": {},
     "output_type": "execute_result"
    }
   ],
   "source": [
    "random_customer_spend_pivot.head()"
   ]
  },
  {
   "cell_type": "code",
   "execution_count": 34,
   "metadata": {},
   "outputs": [
    {
     "data": {
      "image/png": "[encoded data removed]",
      "text/plain": [
       "<Figure size 504x720 with 2 Axes>"
      ]
     },
     "metadata": {
      "needs_background": "light"
     },
     "output_type": "display_data"
    }
   ],
   "source": [
    "plt.figure(figsize=(7, 10))\n",
    "sns.heatmap(random_customer_spend_pivot, annot=True,\n",
    "            linewidths=.5, cmap='Purples');"
   ]
  },
  {
   "cell_type": "markdown",
   "metadata": {},
   "source": [
    "## Моделируем соревнование"
   ]
  },
  {
   "cell_type": "code",
   "execution_count": 35,
   "metadata": {},
   "outputs": [],
   "source": [
    "df['day_of_year'] = df.visit_date.dt.day_of_year"
   ]
  },
  {
   "cell_type": "code",
   "execution_count": 36,
   "metadata": {},
   "outputs": [
    {
     "data": {
      "text/plain": [
       "(array([2010, 2011]),\n",
       " array([ 91,  96,  97, 102, 104, 106, 109, 119, 120, 127, 131, 133, 134,\n",
       "        138, 139, 141, 144, 145, 151, 166, 171, 176, 177, 183, 184, 189,\n",
       "        190, 208, 209, 211, 218, 223, 224, 228, 238, 239, 243, 249, 250,\n",
       "        256, 259, 260, 261, 263, 264, 267, 271, 272, 273, 274, 279, 281,\n",
       "        286, 294, 295, 302, 303, 309, 316, 319, 320, 324, 325, 326, 334,\n",
       "        335, 337, 338, 341, 343, 344, 346, 351, 357, 358, 365,   2,   4,\n",
       "          7,  13,  15,  21,  22,  25,  27,  28,  34,  36,  42,  46,  49,\n",
       "         50,  55,  57,  60,  61,  63,  78,  79,  84,  88,  90,  92,  98,\n",
       "         99, 103, 105, 108, 110, 116, 117, 123, 146, 148, 150, 159, 161,\n",
       "        163, 164, 170,  93, 100, 107, 112, 114, 118, 121, 126, 128, 132,\n",
       "        135, 140, 142, 147, 154, 155, 162, 168, 169, 191, 196, 198, 203,\n",
       "        205, 212, 215, 219, 226, 231, 233, 237, 240, 241, 247, 253, 254,\n",
       "        266, 268, 275, 276, 282, 283, 285, 289, 290, 291, 296, 297, 301,\n",
       "        306, 307, 310, 317, 322, 329, 330, 333, 336, 345, 348, 349, 350,\n",
       "        356, 362,   8,  20,  30,  31,  33,  41,  43,  44,  48,  53,  58,\n",
       "         59,  62,  65,  67,  69,  71,  76,  77,  89, 101, 111, 115, 124,\n",
       "        149, 153, 160, 113, 130, 158, 180, 195, 199, 206, 213, 216, 227,\n",
       "        244, 251, 270, 278, 284, 288, 300, 305, 308, 314, 328, 347, 354,\n",
       "         12,  39,  40,  54,  64,  70,  74,  83,  85,  95, 125, 157, 137,\n",
       "        156, 167, 172, 182, 185, 187, 193, 197, 201, 202, 207, 214, 217,\n",
       "        229, 234, 245, 246, 252, 277, 293, 298, 313, 321, 323, 327,  19,\n",
       "         26,  38,  72,  81, 122, 152, 165, 179, 186, 200, 232, 312, 340,\n",
       "          5,  10,  24,  52,  66,  73,  80,  87,  94, 129, 136, 143, 221,\n",
       "        248, 304, 318, 355,  29, 173, 174, 175, 178, 181, 188, 192, 204,\n",
       "        210, 222, 225, 230, 235, 236, 242, 255, 262, 265, 269, 287, 311,\n",
       "        331, 332, 339, 342, 352, 353, 361, 364,   3,   9,  11,  14,  17,\n",
       "         32,  35,  37,  45,  75,  82,  86,   1,   6,  68, 292,  56,  18,\n",
       "        220, 257, 258, 280,  51, 194, 315,  47, 363,  16,  23, 299, 360,\n",
       "        359]))"
      ]
     },
     "execution_count": 36,
     "metadata": {},
     "output_type": "execute_result"
    }
   ],
   "source": [
    "df.year.unique(), df.day_of_year.unique()"
   ]
  },
  {
   "cell_type": "code",
   "execution_count": 40,
   "metadata": {},
   "outputs": [],
   "source": [
    "df['day'] = (df.year - 2010)*365 + (df.day_of_year - 1)"
   ]
  },
  {
   "cell_type": "code",
   "execution_count": 41,
   "metadata": {},
   "outputs": [
    {
     "data": {
      "text/plain": [
       "array([     2,      3,      4, ..., 149198, 149199, 149200])"
      ]
     },
     "execution_count": 41,
     "metadata": {},
     "output_type": "execute_result"
    }
   ],
   "source": [
    "df.customer_id.unique()"
   ]
  },
  {
   "cell_type": "code",
   "execution_count": 42,
   "metadata": {},
   "outputs": [
    {
     "data": {
      "text/html": [
       "<div>\n",
       "<style scoped>\n",
       "    .dataframe tbody tr th:only-of-type {\n",
       "        vertical-align: middle;\n",
       "    }\n",
       "\n",
       "    .dataframe tbody tr th {\n",
       "        vertical-align: top;\n",
       "    }\n",
       "\n",
       "    .dataframe thead th {\n",
       "        text-align: right;\n",
       "    }\n",
       "</style>\n",
       "<table border=\"1\" class=\"dataframe\">\n",
       "  <thead>\n",
       "    <tr style=\"text-align: right;\">\n",
       "      <th></th>\n",
       "      <th>customer_id</th>\n",
       "      <th>visit_date</th>\n",
       "      <th>visit_spend</th>\n",
       "      <th>weekday</th>\n",
       "      <th>weekofyear</th>\n",
       "      <th>year</th>\n",
       "      <th>day_of_year</th>\n",
       "      <th>day</th>\n",
       "    </tr>\n",
       "  </thead>\n",
       "  <tbody>\n",
       "    <tr>\n",
       "      <th>0</th>\n",
       "      <td>2</td>\n",
       "      <td>2010-04-01</td>\n",
       "      <td>5.97</td>\n",
       "      <td>3</td>\n",
       "      <td>13</td>\n",
       "      <td>2010</td>\n",
       "      <td>91</td>\n",
       "      <td>90</td>\n",
       "    </tr>\n",
       "    <tr>\n",
       "      <th>1</th>\n",
       "      <td>2</td>\n",
       "      <td>2010-04-06</td>\n",
       "      <td>12.71</td>\n",
       "      <td>1</td>\n",
       "      <td>14</td>\n",
       "      <td>2010</td>\n",
       "      <td>96</td>\n",
       "      <td>95</td>\n",
       "    </tr>\n",
       "    <tr>\n",
       "      <th>2</th>\n",
       "      <td>2</td>\n",
       "      <td>2010-04-07</td>\n",
       "      <td>34.52</td>\n",
       "      <td>2</td>\n",
       "      <td>14</td>\n",
       "      <td>2010</td>\n",
       "      <td>97</td>\n",
       "      <td>96</td>\n",
       "    </tr>\n",
       "    <tr>\n",
       "      <th>3</th>\n",
       "      <td>2</td>\n",
       "      <td>2010-04-12</td>\n",
       "      <td>7.89</td>\n",
       "      <td>0</td>\n",
       "      <td>15</td>\n",
       "      <td>2010</td>\n",
       "      <td>102</td>\n",
       "      <td>101</td>\n",
       "    </tr>\n",
       "    <tr>\n",
       "      <th>4</th>\n",
       "      <td>2</td>\n",
       "      <td>2010-04-14</td>\n",
       "      <td>17.17</td>\n",
       "      <td>2</td>\n",
       "      <td>15</td>\n",
       "      <td>2010</td>\n",
       "      <td>104</td>\n",
       "      <td>103</td>\n",
       "    </tr>\n",
       "  </tbody>\n",
       "</table>\n",
       "</div>"
      ],
      "text/plain": [
       "   customer_id visit_date  visit_spend  weekday  weekofyear  year  \\\n",
       "0            2 2010-04-01         5.97        3          13  2010   \n",
       "1            2 2010-04-06        12.71        1          14  2010   \n",
       "2            2 2010-04-07        34.52        2          14  2010   \n",
       "3            2 2010-04-12         7.89        0          15  2010   \n",
       "4            2 2010-04-14        17.17        2          15  2010   \n",
       "\n",
       "   day_of_year  day  \n",
       "0           91   90  \n",
       "1           96   95  \n",
       "2           97   96  \n",
       "3          102  101  \n",
       "4          104  103  "
      ]
     },
     "execution_count": 42,
     "metadata": {},
     "output_type": "execute_result"
    }
   ],
   "source": [
    "df.head()"
   ]
  },
  {
   "cell_type": "code",
   "execution_count": 43,
   "metadata": {},
   "outputs": [],
   "source": [
    "from scipy.sparse import csc_matrix\n",
    "#csc_matrix\n",
    "#csc_array\n",
    "\n",
    "M = csc_matrix((df.visit_spend.values,\n",
    "               (df.customer_id.values, df.day.values)),\n",
    "              shape=(df.customer_id.max()+1, df.day.max()+1))"
   ]
  },
  {
   "cell_type": "code",
   "execution_count": 44,
   "metadata": {},
   "outputs": [
    {
     "data": {
      "text/plain": [
       "(149201, 535)"
      ]
     },
     "execution_count": 44,
     "metadata": {},
     "output_type": "execute_result"
    }
   ],
   "source": [
    "M.shape"
   ]
  },
  {
   "cell_type": "code",
   "execution_count": 46,
   "metadata": {},
   "outputs": [
    {
     "data": {
      "text/plain": [
       "matrix([[ 0.  ,  0.  ,  0.  , ...,  0.  ,  0.  ,  0.  ],\n",
       "        [ 0.  ,  0.  ,  0.  , ...,  0.  ,  0.  ,  0.  ],\n",
       "        [ 0.  ,  0.  ,  0.  , ...,  0.  ,  0.  , 41.  ],\n",
       "        ...,\n",
       "        [ 0.  ,  0.  ,  0.  , ..., 56.08,  0.  , 75.42],\n",
       "        [ 0.  ,  0.  ,  0.  , ...,  0.  ,  0.  ,  0.  ],\n",
       "        [ 0.  ,  0.  ,  0.  , ..., 22.44, 11.64,  0.  ]])"
      ]
     },
     "execution_count": 46,
     "metadata": {},
     "output_type": "execute_result"
    }
   ],
   "source": [
    "# здесь ij-й элемент = траты i-го клиента в j-й день\n",
    "M.todense()"
   ]
  },
  {
   "cell_type": "code",
   "execution_count": 47,
   "metadata": {},
   "outputs": [
    {
     "data": {
      "text/plain": [
       "(84941, 535)"
      ]
     },
     "execution_count": 47,
     "metadata": {},
     "output_type": "execute_result"
    }
   ],
   "source": [
    "# выкинем лишние строки\n",
    "\n",
    "I = M[:,-7:].sum(axis=1)>0\n",
    "I = np.array(I)[:,0]\n",
    "M = M[I,:]\n",
    "M.shape"
   ]
  },
  {
   "cell_type": "markdown",
   "metadata": {},
   "source": [
    "### Делаем обучении и контроль"
   ]
  },
  {
   "cell_type": "code",
   "execution_count": 48,
   "metadata": {},
   "outputs": [
    {
     "name": "stdout",
     "output_type": "stream",
     "text": [
      "(84941, 525) (84941, 7)\n"
     ]
    }
   ],
   "source": [
    "M_train = np.array(M[:, 3:-7].todense()) # чтобы делилось на 7\n",
    "M_test = np.array(M[:, -7:].todense())\n",
    "\n",
    "print (M_train.shape, M_test.shape)"
   ]
  },
  {
   "cell_type": "code",
   "execution_count": 49,
   "metadata": {},
   "outputs": [
    {
     "data": {
      "text/plain": [
       "array([[ 29.38,   0.  ,   0.  , ...,   0.  ,   0.  ,  41.  ],\n",
       "       [  0.  ,   0.  ,   7.97, ...,   0.  ,  54.91,   0.  ],\n",
       "       [  0.  ,   0.  , 129.57, ...,   0.  ,   0.  ,   0.  ],\n",
       "       ...,\n",
       "       [  0.  ,   0.  ,   0.  , ...,  56.08,   0.  ,  75.42],\n",
       "       [  0.  ,   0.  ,  88.69, ...,   0.  ,   0.  ,   0.  ],\n",
       "       [  3.44,  20.99,   0.  , ...,  22.44,  11.64,   0.  ]])"
      ]
     },
     "execution_count": 49,
     "metadata": {},
     "output_type": "execute_result"
    }
   ],
   "source": [
    "M_test"
   ]
  },
  {
   "cell_type": "code",
   "execution_count": 50,
   "metadata": {},
   "outputs": [
    {
     "data": {
      "text/plain": [
       "array([0, 2, 2, ..., 4, 2, 0])"
      ]
     },
     "execution_count": 50,
     "metadata": {},
     "output_type": "execute_result"
    }
   ],
   "source": [
    "#  вектор, содержащий ответы\n",
    "y_test = (M_test>0).argmax(axis=1)\n",
    "y_test"
   ]
  },
  {
   "cell_type": "markdown",
   "metadata": {},
   "source": [
    "## Ответ \"как последняя неделя\""
   ]
  },
  {
   "cell_type": "code",
   "execution_count": 53,
   "metadata": {},
   "outputs": [
    {
     "name": "stdout",
     "output_type": "stream",
     "text": [
      "качество = 0.345\n"
     ]
    }
   ],
   "source": [
    "a = (M_train[:,-7:] > 0).argmax(axis=1)\n",
    "e_last = np.mean(y_test == a)\n",
    "print (f\"качество = {e_last:.3}\")"
   ]
  },
  {
   "cell_type": "markdown",
   "metadata": {},
   "source": [
    "## Ответ \"как предпоследняя неделя\""
   ]
  },
  {
   "cell_type": "code",
   "execution_count": 54,
   "metadata": {},
   "outputs": [
    {
     "name": "stdout",
     "output_type": "stream",
     "text": [
      "качество = 0.299\n"
     ]
    }
   ],
   "source": [
    "a = (M_train[:,-14:-7] > 0).argmax(axis=1)\n",
    "e_prelast = np.mean(y_test == a)\n",
    "print (f\"качество = {e_prelast:.3}\")"
   ]
  },
  {
   "cell_type": "markdown",
   "metadata": {},
   "source": [
    "## Ответ \"понедельник\""
   ]
  },
  {
   "cell_type": "code",
   "execution_count": 55,
   "metadata": {},
   "outputs": [
    {
     "name": "stdout",
     "output_type": "stream",
     "text": [
      "качество = 0.313\n"
     ]
    }
   ],
   "source": [
    "e_monday = np.mean(y_test == 0)\n",
    "print (f\"качество = {e_monday:.3}\")"
   ]
  },
  {
   "cell_type": "markdown",
   "metadata": {},
   "source": [
    "## Ответ через вероятности"
   ]
  },
  {
   "cell_type": "code",
   "execution_count": 56,
   "metadata": {},
   "outputs": [
    {
     "name": "stdout",
     "output_type": "stream",
     "text": [
      "клиентов = 84941\n"
     ]
    }
   ],
   "source": [
    "m = M_train.shape[0]\n",
    "print(f\"клиентов = {m}\")"
   ]
  },
  {
   "cell_type": "markdown",
   "metadata": {},
   "source": [
    "по максимальной вероятности"
   ]
  },
  {
   "cell_type": "code",
   "execution_count": 57,
   "metadata": {},
   "outputs": [
    {
     "name": "stdout",
     "output_type": "stream",
     "text": [
      "качество = 0.282\n"
     ]
    }
   ],
   "source": [
    "tmp = M_train.reshape(m, 75, 7)\n",
    "tmp = (tmp > 0).mean(axis=1)\n",
    "# tmp = tmp[:, -1,:] > 0 # так был бы последняя неделя\n",
    "a = tmp.argmax(axis=1)\n",
    "e_p1 = np.mean(y_test == a)\n",
    "print (f\"качество = {e_p1:.3}\")"
   ]
  },
  {
   "cell_type": "markdown",
   "metadata": {},
   "source": [
    "а теперь уже правильно с пересчётом"
   ]
  },
  {
   "cell_type": "code",
   "execution_count": 58,
   "metadata": {},
   "outputs": [
    {
     "name": "stdout",
     "output_type": "stream",
     "text": [
      "качество = 0.421\n"
     ]
    }
   ],
   "source": [
    "tmp = M_train.reshape(m, 75, 7)\n",
    "tmp = (tmp > 0).mean(axis=1)\n",
    "\n",
    "tmp[:,1:] = tmp[:,1:] * (1 - tmp[:,:-1]).cumprod(axis=1)\n",
    "\n",
    "a = tmp.argmax(axis=1)\n",
    "e_p2 = np.mean(y_test == a)\n",
    "print (f\"качество = {e_p2:.3}\")"
   ]
  },
  {
   "cell_type": "markdown",
   "metadata": {},
   "source": [
    "## весовая схема"
   ]
  },
  {
   "cell_type": "code",
   "execution_count": 59,
   "metadata": {},
   "outputs": [],
   "source": [
    "k = 75\n",
    "ws = np.arange(1, k+1) ** 2\n",
    "ws = ws / np.sum(ws)"
   ]
  },
  {
   "cell_type": "code",
   "execution_count": 60,
   "metadata": {},
   "outputs": [
    {
     "data": {
      "image/png": "[encoded data removed]",
      "text/plain": [
       "<Figure size 504x216 with 1 Axes>"
      ]
     },
     "metadata": {
      "needs_background": "light"
     },
     "output_type": "display_data"
    }
   ],
   "source": [
    "plt.figure(figsize=(7, 3))\n",
    "plt.bar(np.arange(1, k+1), ws, color='#000099')\n",
    "plt.ylabel('значение веса')\n",
    "plt.xlabel('номер недели');\n",
    "plt.grid(axis='y',lw=2)"
   ]
  },
  {
   "cell_type": "code",
   "execution_count": 61,
   "metadata": {},
   "outputs": [
    {
     "name": "stdout",
     "output_type": "stream",
     "text": [
      "качество = 0.428\n"
     ]
    }
   ],
   "source": [
    "tmp = M_train.reshape(m, 75, 7)\n",
    "tmp = tmp > 0\n",
    "sumtmp = 0.0\n",
    "for t, w in enumerate(ws):\n",
    "    sumtmp += w*tmp[:, t, :]\n",
    "    \n",
    "sumtmp[:,1:] = sumtmp[:,1:] * (1 - sumtmp[:,:-1]).cumprod(axis=1)\n",
    "\n",
    "a = sumtmp.argmax(axis=1)\n",
    "e_w = np.mean(y_test == a)\n",
    "print (f\"качество = {e_w:.3}\")"
   ]
  },
  {
   "cell_type": "markdown",
   "metadata": {},
   "source": [
    "## исследование весовых схем"
   ]
  },
  {
   "cell_type": "code",
   "execution_count": 62,
   "metadata": {},
   "outputs": [],
   "source": [
    "degrees = np.linspace(0, 10, 101)\n",
    "es = []\n",
    "\n",
    "for d in degrees:\n",
    "    ws = np.arange(1, k+1) ** d\n",
    "    ws = ws / np.sum(ws)\n",
    "    \n",
    "    tmp = M_train.reshape(m, 75, 7)\n",
    "    tmp = tmp > 0\n",
    "    sumtmp = 0.0\n",
    "    for t, w in enumerate(ws):\n",
    "        sumtmp += w*tmp[:, t, :]\n",
    "        \n",
    "    sumtmp[:,1:] = sumtmp[:,1:] * (1 - sumtmp[:,:-1]).cumprod(axis=1)        \n",
    "    \n",
    "    a = sumtmp.argmax(axis=1)\n",
    "    e = np.mean(y_test == a)\n",
    "    \n",
    "    es.append(e)    "
   ]
  },
  {
   "cell_type": "code",
   "execution_count": 63,
   "metadata": {},
   "outputs": [
    {
     "data": {
      "text/plain": [
       "(0.0, 10.0)"
      ]
     },
     "execution_count": 63,
     "metadata": {},
     "output_type": "execute_result"
    },
    {
     "data": {
      "image/png": "[encoded data removed]",
      "text/plain": [
       "<Figure size 504x216 with 1 Axes>"
      ]
     },
     "metadata": {
      "needs_background": "light"
     },
     "output_type": "display_data"
    }
   ],
   "source": [
    "plt.figure(figsize=(7, 3))\n",
    "plt.plot(degrees, es, c='#000099', lw=2)\n",
    "plt.xlabel('степень в весовой схеме')\n",
    "plt.ylabel('качество')\n",
    "plt.grid(lw=2)\n",
    "plt.xlim([0, 10])"
   ]
  },
  {
   "cell_type": "code",
   "execution_count": null,
   "metadata": {},
   "outputs": [],
   "source": []
  },
  {
   "cell_type": "code",
   "execution_count": 64,
   "metadata": {},
   "outputs": [
    {
     "data": {
      "image/png": "[encoded data removed]",
      "text/plain": [
       "<Figure size 504x216 with 1 Axes>"
      ]
     },
     "metadata": {
      "needs_background": "light"
     },
     "output_type": "display_data"
    }
   ],
   "source": [
    "plt.figure(figsize=(7, 3))\n",
    "plt.bar([1,2,3,4,5], [e_last, e_prelast, e_p1, e_p2, e_w], color='#000099')\n",
    "plt.xticks([1,2,3,4,5], ['по последней\\nнеделе', 'по предпоследней\\nнеделе',\n",
    "                         'по max вероятности', 'по правильной\\nвероятности',\n",
    "                        'весовая схема'], rotation=-15)\n",
    "plt.ylabel('качество')\n",
    "plt.grid(axis='y',lw=2)"
   ]
  },
  {
   "cell_type": "markdown",
   "metadata": {
    "colab_type": "text",
    "id": "QG2nDrodjlQz"
   },
   "source": [
    "## Ансамбли"
   ]
  }
 ],
 "metadata": {
  "colab": {
   "name": "HW.ipynb",
   "provenance": []
  },
  "kernelspec": {
   "display_name": "Python 3",
   "language": "python",
   "name": "python3"
  },
  "language_info": {
   "codemirror_mode": {
    "name": "ipython",
    "version": 3
   },
   "file_extension": ".py",
   "mimetype": "text/x-python",
   "name": "python",
   "nbconvert_exporter": "python",
   "pygments_lexer": "ipython3",
   "version": "3.7.12"
  }
 },
 "nbformat": 4,
 "nbformat_minor": 4
}
